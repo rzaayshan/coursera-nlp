{
  "nbformat": 4,
  "nbformat_minor": 0,
  "metadata": {
    "colab": {
      "name": "coursera-nlp-2.ipynb",
      "provenance": []
    },
    "kernelspec": {
      "name": "python3",
      "display_name": "Python 3"
    },
    "language_info": {
      "name": "python"
    }
  },
  "cells": [
    {
      "cell_type": "code",
      "execution_count": null,
      "metadata": {
        "colab": {
          "base_uri": "https://localhost:8080/"
        },
        "id": "ovZIcF9pXGkQ",
        "outputId": "ea79c4f7-95c9-454e-f5cc-4313b9493507"
      },
      "outputs": [
        {
          "output_type": "stream",
          "name": "stdout",
          "text": [
            "Word index= {'<OOV>': 1, 'love': 2, 'my': 3, 'i': 4, 'dog': 5, 'cat': 6, 'you': 7}\n",
            "Sequences= [[4, 2, 3, 5], [4, 2, 3, 6], [7, 2, 3, 5]]\n"
          ]
        }
      ],
      "source": [
        "from tensorflow.keras.preprocessing.text import Tokenizer\n",
        "from tensorflow.keras.preprocessing.sequence import pad_sequences\n",
        "\n",
        "tokenizer = Tokenizer(num_words=100, oov_token='<OOV>')\n",
        "\n",
        "sentences = [\n",
        "             \"I love my dog\",\n",
        "             \"I love my cat\",\n",
        "             \"You love my dog\"\n",
        "]\n",
        "\n",
        "tokenizer.fit_on_texts(sentences)\n",
        "\n",
        "word_index = tokenizer.word_index\n",
        "\n",
        "sequences = tokenizer.texts_to_sequences(sentences)\n",
        "\n",
        "print(\"Word index=\", word_index)\n",
        "print(\"Sequences=\", sequences)\n"
      ]
    },
    {
      "cell_type": "code",
      "source": [
        "padded = pad_sequences(sequences, maxlen=5)\n",
        "print(\"Padded sequences=\", padded)"
      ],
      "metadata": {
        "colab": {
          "base_uri": "https://localhost:8080/"
        },
        "id": "cq-4WGAtYPr_",
        "outputId": "1ec88ab5-0345-45c3-acee-4260deb61123"
      },
      "execution_count": null,
      "outputs": [
        {
          "output_type": "stream",
          "name": "stdout",
          "text": [
            "Padded sequences= [[0 4 2 3 5]\n",
            " [0 4 2 3 6]\n",
            " [0 7 2 3 5]]\n"
          ]
        }
      ]
    },
    {
      "cell_type": "code",
      "source": [
        "test_data = [\n",
        "    'i really love my dog',\n",
        "    'my dog loves my manatee'\n",
        "]\n",
        "\n",
        "test_sequences = tokenizer.texts_to_sequences(test_data)\n",
        "\n",
        "print('Word index=', word_index)\n",
        "print(\"Test sequences=\", test_sequences)\n",
        "\n",
        "padded_test = pad_sequences(test_sequences, maxlen=10)\n",
        "print('Padded test sequences=', padded_test)"
      ],
      "metadata": {
        "colab": {
          "base_uri": "https://localhost:8080/"
        },
        "id": "nBFhBoHZY-8P",
        "outputId": "5e73da08-e45f-44b7-88ab-89986e102b90"
      },
      "execution_count": null,
      "outputs": [
        {
          "output_type": "stream",
          "name": "stdout",
          "text": [
            "Word index= {'<OOV>': 1, 'love': 2, 'my': 3, 'i': 4, 'dog': 5, 'cat': 6, 'you': 7}\n",
            "Test sequences= [[4, 1, 2, 3, 5], [3, 5, 1, 3, 1]]\n",
            "Padded test sequences= [[0 0 0 0 0 4 1 2 3 5]\n",
            " [0 0 0 0 0 3 5 1 3 1]]\n"
          ]
        }
      ]
    },
    {
      "cell_type": "code",
      "source": [
        ""
      ],
      "metadata": {
        "id": "eq98O5KgZtvv"
      },
      "execution_count": null,
      "outputs": []
    }
  ]
}