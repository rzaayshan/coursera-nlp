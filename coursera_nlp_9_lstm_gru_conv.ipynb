{
  "nbformat": 4,
  "nbformat_minor": 0,
  "metadata": {
    "colab": {
      "name": "coursera-nlp-9-lstm-gru-conv.ipynb",
      "provenance": [],
      "collapsed_sections": []
    },
    "kernelspec": {
      "name": "python3",
      "display_name": "Python 3"
    },
    "language_info": {
      "name": "python"
    }
  },
  "cells": [
    {
      "cell_type": "code",
      "execution_count": null,
      "metadata": {
        "id": "1gT5bo8p2Y-e"
      },
      "outputs": [],
      "source": [
        "import tensorflow_datasets as tfds\n",
        "import tensorflow as tf\n",
        "import numpy as np\n",
        "\n",
        "from tensorflow.keras.preprocessing.text import Tokenizer\n",
        "from tensorflow.keras.preprocessing.sequence import pad_sequences"
      ]
    },
    {
      "cell_type": "code",
      "source": [
        "imdb, info = tfds.load('imdb_reviews', with_info=True, as_supervised=True)"
      ],
      "metadata": {
        "id": "6dTvWPOZ22Wl"
      },
      "execution_count": null,
      "outputs": []
    },
    {
      "cell_type": "code",
      "source": [
        "train_data, test_data = imdb['train'],imdb['test']\n",
        "# test_data = imdb_data['test']\n",
        "\n",
        "train_sentences = []\n",
        "train_labels = []\n",
        "\n",
        "test_sentences = []\n",
        "test_labels = []\n",
        "\n",
        "for s,l in train_data:\n",
        "  train_sentences.append(s.numpy().decode('utf8'))\n",
        "  train_labels.append(l.numpy())\n",
        "\n",
        "for s,l in test_data:\n",
        "  test_sentences.append(s.numpy().decode('utf8'))\n",
        "  test_labels.append(l.numpy())   \n",
        "\n",
        "train_labels = np.array(train_labels)\n",
        "test_labels = np.array(test_labels)  "
      ],
      "metadata": {
        "id": "ktic4gj63G_D"
      },
      "execution_count": null,
      "outputs": []
    },
    {
      "cell_type": "code",
      "source": [
        "vocab_size = 10000\n",
        "oov_token = '<OOV>'\n",
        "max_length = 120\n",
        "trunc_type='post'\n",
        "\n",
        "tokenizer = Tokenizer(num_words=vocab_size, oov_token=oov_token)\n",
        "\n",
        "tokenizer.fit_on_texts(train_sentences)\n",
        "\n",
        "train_sequences = tokenizer.texts_to_sequences(train_sentences)\n",
        "\n",
        "train_padded = pad_sequences(train_sequences, truncating=trunc_type, maxlen=max_length)\n",
        "\n",
        "test_sequences = tokenizer.texts_to_sequences(test_sentences)\n",
        "\n",
        "test_padded = pad_sequences(test_sequences, maxlen=max_length)"
      ],
      "metadata": {
        "id": "hYx9ajWJ4FXW"
      },
      "execution_count": null,
      "outputs": []
    },
    {
      "cell_type": "code",
      "source": [
        "import matplotlib.pyplot as plt\n",
        "\n",
        "# Plot Utility\n",
        "def plot_graphs(history, string):\n",
        "  plt.plot(history.history[string])\n",
        "  plt.plot(history.history['val_'+string])\n",
        "  plt.xlabel(\"Epochs\")\n",
        "  plt.ylabel(string)\n",
        "  plt.legend([string, 'val_'+string])\n",
        "  plt.show()\n"
      ],
      "metadata": {
        "id": "DRuXzlQS9LA3"
      },
      "execution_count": null,
      "outputs": []
    },
    {
      "cell_type": "code",
      "source": [
        "embedding_dim=16\n",
        "dense_dim=6\n",
        "\n",
        "model_flatten = tf.keras.models.Sequential([\n",
        "                tf.keras.layers.Embedding(vocab_size, embedding_dim, input_length=max_length),\n",
        "                tf.keras.layers.Flatten(),\n",
        "                tf.keras.layers.Dense(dense_dim, activation='relu'),\n",
        "                tf.keras.layers.Dense(1, activation='sigmoid')                          \n",
        "])\n",
        "\n",
        "model_flatten.compile(loss='binary_crossentropy', optimizer='adam', metrics=['accuracy'])\n",
        "\n",
        "model_flatten.summary()"
      ],
      "metadata": {
        "colab": {
          "base_uri": "https://localhost:8080/"
        },
        "id": "PkjNOcLa9kKq",
        "outputId": "c73a576b-1490-46f8-f007-dec55be22876"
      },
      "execution_count": null,
      "outputs": [
        {
          "output_type": "stream",
          "name": "stdout",
          "text": [
            "Model: \"sequential_3\"\n",
            "_________________________________________________________________\n",
            " Layer (type)                Output Shape              Param #   \n",
            "=================================================================\n",
            " embedding_3 (Embedding)     (None, 120, 16)           160000    \n",
            "                                                                 \n",
            " flatten_3 (Flatten)         (None, 1920)              0         \n",
            "                                                                 \n",
            " dense_6 (Dense)             (None, 6)                 11526     \n",
            "                                                                 \n",
            " dense_7 (Dense)             (None, 1)                 7         \n",
            "                                                                 \n",
            "=================================================================\n",
            "Total params: 171,533\n",
            "Trainable params: 171,533\n",
            "Non-trainable params: 0\n",
            "_________________________________________________________________\n"
          ]
        }
      ]
    },
    {
      "cell_type": "code",
      "source": [
        "NUM_EPOCHS=10\n",
        "BATCH_SIZE=128\n",
        "\n",
        "history_flatten = model_flatten.fit(train_padded, train_labels, epochs=NUM_EPOCHS, batch_size=BATCH_SIZE, validation_data=(test_padded, test_labels))"
      ],
      "metadata": {
        "colab": {
          "base_uri": "https://localhost:8080/"
        },
        "id": "VJbEF_Yl-Wg_",
        "outputId": "9eb37a05-580a-4e75-84d8-a147cb4f5ef7"
      },
      "execution_count": null,
      "outputs": [
        {
          "output_type": "stream",
          "name": "stdout",
          "text": [
            "Epoch 1/10\n",
            "196/196 [==============================] - 3s 11ms/step - loss: 0.5959 - accuracy: 0.6683 - val_loss: 0.3926 - val_accuracy: 0.8311\n",
            "Epoch 2/10\n",
            "196/196 [==============================] - 2s 10ms/step - loss: 0.3095 - accuracy: 0.8742 - val_loss: 0.3437 - val_accuracy: 0.8482\n",
            "Epoch 3/10\n",
            "196/196 [==============================] - 2s 10ms/step - loss: 0.1856 - accuracy: 0.9373 - val_loss: 0.3663 - val_accuracy: 0.8411\n",
            "Epoch 4/10\n",
            "196/196 [==============================] - 2s 9ms/step - loss: 0.0922 - accuracy: 0.9800 - val_loss: 0.3983 - val_accuracy: 0.8381\n",
            "Epoch 5/10\n",
            "196/196 [==============================] - 2s 10ms/step - loss: 0.0390 - accuracy: 0.9964 - val_loss: 0.4421 - val_accuracy: 0.8350\n",
            "Epoch 6/10\n",
            "196/196 [==============================] - 2s 9ms/step - loss: 0.0179 - accuracy: 0.9990 - val_loss: 0.4807 - val_accuracy: 0.8335\n",
            "Epoch 7/10\n",
            "196/196 [==============================] - 2s 10ms/step - loss: 0.0096 - accuracy: 0.9996 - val_loss: 0.5131 - val_accuracy: 0.8328\n",
            "Epoch 8/10\n",
            "196/196 [==============================] - 2s 11ms/step - loss: 0.0054 - accuracy: 0.9999 - val_loss: 0.5406 - val_accuracy: 0.8331\n",
            "Epoch 9/10\n",
            "196/196 [==============================] - 2s 10ms/step - loss: 0.0035 - accuracy: 1.0000 - val_loss: 0.5641 - val_accuracy: 0.8328\n",
            "Epoch 10/10\n",
            "196/196 [==============================] - 2s 11ms/step - loss: 0.0024 - accuracy: 1.0000 - val_loss: 0.5852 - val_accuracy: 0.8325\n"
          ]
        }
      ]
    },
    {
      "cell_type": "code",
      "source": [
        "plot_graphs(history_flatten, 'accuracy')\n",
        "plot_graphs(history_flatten, 'loss')"
      ],
      "metadata": {
        "colab": {
          "base_uri": "https://localhost:8080/",
          "height": 541
        },
        "id": "Kx3qHTDSAi3R",
        "outputId": "0f11946b-6bbe-4c0c-f131-fa73d9c6e84e"
      },
      "execution_count": null,
      "outputs": [
        {
          "output_type": "display_data",
          "data": {
            "text/plain": [
              "<Figure size 432x288 with 1 Axes>"
            ],
            "image/png": "[encoded data removed]"
          },
          "metadata": {
            "needs_background": "light"
          }
        },
        {
          "output_type": "display_data",
          "data": {
            "text/plain": [
              "<Figure size 432x288 with 1 Axes>"
            ],
            "image/png": "[encoded data removed]"
          },
          "metadata": {
            "needs_background": "light"
          }
        }
      ]
    },
    {
      "cell_type": "code",
      "source": [
        "embedding_dim = 16\n",
        "lstm_dim = 32\n",
        "dense_dim = 6\n",
        "\n",
        "model_lstm = tf.keras.models.Sequential([\n",
        "                  tf.keras.layers.Embedding(vocab_size, embedding_dim, input_length=max_length),\n",
        "                  tf.keras.layers.Bidirectional(tf.keras.layers.LSTM(lstm_dim)),\n",
        "                  tf.keras.layers.Dense(dense_dim),\n",
        "                  tf.keras.layers.Dense(1)                       \n",
        "])\n",
        "\n",
        "model_lstm.compile(loss='binary_crossentropy',optimizer='adam',metrics=['accuracy'])\n",
        "\n",
        "model_lstm.summary()"
      ],
      "metadata": {
        "colab": {
          "base_uri": "https://localhost:8080/"
        },
        "id": "5x9JuBkrBNzA",
        "outputId": "458b1a93-b90e-4f5e-e54e-c7367a0c9ff2"
      },
      "execution_count": null,
      "outputs": [
        {
          "output_type": "stream",
          "name": "stdout",
          "text": [
            "Model: \"sequential_4\"\n",
            "_________________________________________________________________\n",
            " Layer (type)                Output Shape              Param #   \n",
            "=================================================================\n",
            " embedding_4 (Embedding)     (None, 120, 16)           160000    \n",
            "                                                                 \n",
            " bidirectional (Bidirectiona  (None, 64)               12544     \n",
            " l)                                                              \n",
            "                                                                 \n",
            " dense_8 (Dense)             (None, 6)                 390       \n",
            "                                                                 \n",
            " dense_9 (Dense)             (None, 1)                 7         \n",
            "                                                                 \n",
            "=================================================================\n",
            "Total params: 172,941\n",
            "Trainable params: 172,941\n",
            "Non-trainable params: 0\n",
            "_________________________________________________________________\n"
          ]
        }
      ]
    },
    {
      "cell_type": "code",
      "source": [
        "NUM_EPOCHS = 10\n",
        "BATCH_SIZE = 128\n",
        "\n",
        "history_lstm = model_lstm.fit(train_padded, train_labels, epochs=NUM_EPOCHS, batch_size=BATCH_SIZE, validation_data=(test_padded, test_labels))"
      ],
      "metadata": {
        "colab": {
          "base_uri": "https://localhost:8080/"
        },
        "id": "urOMUXQKCJNV",
        "outputId": "a29a7326-4bf3-4606-a6cc-768005aba1f0"
      },
      "execution_count": null,
      "outputs": [
        {
          "output_type": "stream",
          "name": "stdout",
          "text": [
            "Epoch 1/10\n",
            "196/196 [==============================] - 40s 185ms/step - loss: 0.7468 - accuracy: 0.5948 - val_loss: 0.6128 - val_accuracy: 0.7022\n",
            "Epoch 2/10\n",
            "196/196 [==============================] - 35s 178ms/step - loss: 0.5595 - accuracy: 0.7498 - val_loss: 0.4835 - val_accuracy: 0.7826\n",
            "Epoch 3/10\n",
            "196/196 [==============================] - 35s 177ms/step - loss: 0.4386 - accuracy: 0.8256 - val_loss: 0.5123 - val_accuracy: 0.8145\n",
            "Epoch 4/10\n",
            "196/196 [==============================] - 35s 177ms/step - loss: 0.3853 - accuracy: 0.8598 - val_loss: 0.5565 - val_accuracy: 0.7275\n",
            "Epoch 5/10\n",
            "196/196 [==============================] - 35s 177ms/step - loss: 0.3691 - accuracy: 0.8614 - val_loss: 0.6320 - val_accuracy: 0.8227\n",
            "Epoch 6/10\n",
            "196/196 [==============================] - 35s 178ms/step - loss: 0.4410 - accuracy: 0.8496 - val_loss: 0.5718 - val_accuracy: 0.7014\n",
            "Epoch 7/10\n",
            "196/196 [==============================] - 35s 180ms/step - loss: 0.3765 - accuracy: 0.8476 - val_loss: 0.6368 - val_accuracy: 0.7863\n",
            "Epoch 8/10\n",
            "196/196 [==============================] - 35s 181ms/step - loss: 0.2524 - accuracy: 0.9202 - val_loss: 0.8084 - val_accuracy: 0.8110\n",
            "Epoch 9/10\n",
            "196/196 [==============================] - 35s 180ms/step - loss: 0.7744 - accuracy: 0.8374 - val_loss: 0.9996 - val_accuracy: 0.7708\n",
            "Epoch 10/10\n",
            "196/196 [==============================] - 36s 182ms/step - loss: 0.3179 - accuracy: 0.8877 - val_loss: 0.7275 - val_accuracy: 0.8032\n"
          ]
        }
      ]
    },
    {
      "cell_type": "code",
      "source": [
        ""
      ],
      "metadata": {
        "id": "eWi1eJviCnW8"
      },
      "execution_count": null,
      "outputs": []
    }
  ]
}