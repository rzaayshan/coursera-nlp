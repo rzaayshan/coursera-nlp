{
  "nbformat": 4,
  "nbformat_minor": 0,
  "metadata": {
    "colab": {
      "name": "coursera-nlp-7-lstm1.ipynb",
      "provenance": [],
      "collapsed_sections": []
    },
    "kernelspec": {
      "name": "python3",
      "display_name": "Python 3"
    },
    "language_info": {
      "name": "python"
    },
    "accelerator": "GPU"
  },
  "cells": [
    {
      "cell_type": "code",
      "execution_count": null,
      "metadata": {
        "colab": {
          "base_uri": "https://localhost:8080/"
        },
        "id": "j9pTsnmxeGfb",
        "outputId": "611ac18b-d32d-41dc-e126-9ab89abf1bfb"
      },
      "outputs": [
        {
          "output_type": "stream",
          "name": "stderr",
          "text": [
            "WARNING:absl:TFDS datasets with text encoding are deprecated and will be removed in a future version. Instead, you should use the plain text version and tokenize the text using `tensorflow_text` (See: https://www.tensorflow.org/tutorials/tensorflow_text/intro#tfdata_example)\n"
          ]
        }
      ],
      "source": [
        "import tensorflow_datasets as tfds\n",
        "\n",
        "data, info = tfds.load('imdb_reviews/subwords8k', with_info=True, as_supervised=True)\n",
        "\n",
        "tokenizer = info.features['text'].encoder"
      ]
    },
    {
      "cell_type": "code",
      "source": [
        "BUFFER_SIZE=10000\n",
        "BATCH_SIZE=256\n",
        "\n",
        "train_data, test_data = data['train'], data['test']\n",
        "\n",
        "train_data = train_data.shuffle(BUFFER_SIZE)\n",
        "\n",
        "train_dataset = train_data.padded_batch(BATCH_SIZE)\n",
        "test_dataset = test_data.padded_batch(BATCH_SIZE)"
      ],
      "metadata": {
        "id": "A7nMCTNne-eo"
      },
      "execution_count": null,
      "outputs": []
    },
    {
      "cell_type": "code",
      "source": [
        "import tensorflow as tf\n",
        "\n",
        "embedding_dim = 64\n",
        "dense_dim=64\n",
        "lstm_dim=64\n",
        "\n",
        "model = tf.keras.models.Sequential([\n",
        "        tf.keras.layers.Embedding(tokenizer.vocab_size, embedding_dim),\n",
        "        tf.keras.layers.Bidirectional(tf.keras.layers.LSTM(lstm_dim)),\n",
        "        tf.keras.layers.Dense(dense_dim, activation='relu'),\n",
        "        tf.keras.layers.Dense(1, activation='sigmoid')                           \n",
        "])\n",
        "\n",
        "model.summary()"
      ],
      "metadata": {
        "colab": {
          "base_uri": "https://localhost:8080/"
        },
        "id": "h8iVZyw9f5kI",
        "outputId": "88771f9d-e2aa-4beb-b2f8-878828a58fc6"
      },
      "execution_count": null,
      "outputs": [
        {
          "output_type": "stream",
          "name": "stdout",
          "text": [
            "Model: \"sequential\"\n",
            "_________________________________________________________________\n",
            " Layer (type)                Output Shape              Param #   \n",
            "=================================================================\n",
            " embedding (Embedding)       (None, None, 64)          523840    \n",
            "                                                                 \n",
            " bidirectional (Bidirectiona  (None, 128)              66048     \n",
            " l)                                                              \n",
            "                                                                 \n",
            " dense (Dense)               (None, 64)                8256      \n",
            "                                                                 \n",
            " dense_1 (Dense)             (None, 1)                 65        \n",
            "                                                                 \n",
            "=================================================================\n",
            "Total params: 598,209\n",
            "Trainable params: 598,209\n",
            "Non-trainable params: 0\n",
            "_________________________________________________________________\n"
          ]
        }
      ]
    },
    {
      "cell_type": "code",
      "source": [
        "model.compile(loss='binary_crossentropy', optimizer='adam', metrics=['accuracy'])"
      ],
      "metadata": {
        "id": "lnDI1wvNg1m7"
      },
      "execution_count": null,
      "outputs": []
    },
    {
      "cell_type": "code",
      "source": [
        "NUM_EPOCHS = 10\n",
        "\n",
        "history = model.fit(train_dataset, epochs=NUM_EPOCHS, validation_data=test_dataset)"
      ],
      "metadata": {
        "colab": {
          "base_uri": "https://localhost:8080/"
        },
        "id": "bW6ciTqAhFmJ",
        "outputId": "659439cc-c86f-4f47-d3b0-a738782ae0b7"
      },
      "execution_count": null,
      "outputs": [
        {
          "output_type": "stream",
          "name": "stdout",
          "text": [
            "Epoch 1/10\n",
            "98/98 [==============================] - 94s 906ms/step - loss: 0.6436 - accuracy: 0.6256 - val_loss: 0.5217 - val_accuracy: 0.7409\n",
            "Epoch 2/10\n",
            "98/98 [==============================] - 88s 897ms/step - loss: 0.3476 - accuracy: 0.8568 - val_loss: 0.3995 - val_accuracy: 0.8225\n",
            "Epoch 3/10\n",
            "98/98 [==============================] - 88s 899ms/step - loss: 0.2525 - accuracy: 0.9062 - val_loss: 0.3833 - val_accuracy: 0.8491\n",
            "Epoch 4/10\n",
            "98/98 [==============================] - 88s 897ms/step - loss: 0.2252 - accuracy: 0.9167 - val_loss: 0.4007 - val_accuracy: 0.8436\n",
            "Epoch 5/10\n",
            "98/98 [==============================] - 88s 893ms/step - loss: 0.1929 - accuracy: 0.9310 - val_loss: 0.4220 - val_accuracy: 0.8350\n",
            "Epoch 6/10\n",
            "98/98 [==============================] - 88s 894ms/step - loss: 0.1513 - accuracy: 0.9490 - val_loss: 0.4747 - val_accuracy: 0.8464\n",
            "Epoch 7/10\n",
            "98/98 [==============================] - 87s 887ms/step - loss: 0.1228 - accuracy: 0.9592 - val_loss: 0.5367 - val_accuracy: 0.8375\n",
            "Epoch 8/10\n",
            "98/98 [==============================] - 88s 893ms/step - loss: 0.1248 - accuracy: 0.9563 - val_loss: 0.5289 - val_accuracy: 0.8392\n",
            "Epoch 9/10\n",
            "98/98 [==============================] - 87s 886ms/step - loss: 0.2111 - accuracy: 0.9220 - val_loss: 0.4890 - val_accuracy: 0.8105\n",
            "Epoch 10/10\n",
            "98/98 [==============================] - 87s 884ms/step - loss: 0.1504 - accuracy: 0.9474 - val_loss: 0.5488 - val_accuracy: 0.8292\n"
          ]
        }
      ]
    },
    {
      "cell_type": "code",
      "source": [
        "import matplotlib.pyplot as plt\n",
        "\n",
        "# Plot utility\n",
        "def plot_graphs(history, string):\n",
        "  plt.plot(history.history[string])\n",
        "  plt.plot(history.history['val_'+string])\n",
        "  plt.xlabel(\"Epochs\")\n",
        "  plt.ylabel(string)\n",
        "  plt.legend([string, 'val_'+string])\n",
        "  plt.show()\n",
        "\n",
        "# Plot the accuracy and results \n",
        "plot_graphs(history, \"accuracy\")\n",
        "plot_graphs(history, \"loss\")"
      ],
      "metadata": {
        "id": "Yr72fE_zhJHw",
        "colab": {
          "base_uri": "https://localhost:8080/",
          "height": 541
        },
        "outputId": "bc51759a-cf6a-4112-a091-6a8eba59a7b5"
      },
      "execution_count": null,
      "outputs": [
        {
          "output_type": "display_data",
          "data": {
            "text/plain": [
              "<Figure size 432x288 with 1 Axes>"
            ],
            "image/png": "[encoded data removed]"
          },
          "metadata": {
            "needs_background": "light"
          }
        },
        {
          "output_type": "display_data",
          "data": {
            "text/plain": [
              "<Figure size 432x288 with 1 Axes>"
            ],
            "image/png": "[encoded data removed]"
          },
          "metadata": {
            "needs_background": "light"
          }
        }
      ]
    },
    {
      "cell_type": "code",
      "source": [
        ""
      ],
      "metadata": {
        "id": "35eGhqB_qrPP"
      },
      "execution_count": null,
      "outputs": []
    }
  ]
}